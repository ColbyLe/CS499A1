{
  "nbformat": 4,
  "nbformat_minor": 0,
  "metadata": {
    "kernelspec": {
      "display_name": "Python 3",
      "language": "python",
      "name": "python3"
    },
    "language_info": {
      "codemirror_mode": {
        "name": "ipython",
        "version": 3
      },
      "file_extension": ".py",
      "mimetype": "text/x-python",
      "name": "python",
      "nbconvert_exporter": "python",
      "pygments_lexer": "ipython3",
      "version": "3.5.3"
    },
    "colab": {
      "name": "CS499A1.ipynb",
      "provenance": [],
      "collapsed_sections": [],
      "include_colab_link": true
    }
  },
  "cells": [
    {
      "cell_type": "markdown",
      "metadata": {
        "id": "view-in-github",
        "colab_type": "text"
      },
      "source": [
        "<a href=\"https://colab.research.google.com/github/ColbyLe/CS499A1/blob/master/CS499A1.ipynb\" target=\"_parent\"><img src=\"https://colab.research.google.com/assets/colab-badge.svg\" alt=\"Open In Colab\"/></a>"
      ]
    },
    {
      "cell_type": "markdown",
      "metadata": {
        "deletable": true,
        "editable": true,
        "id": "m_R4z-lmbSjo",
        "colab_type": "text"
      },
      "source": [
        "<h2>Assignment 1 - Linear Regression on Boston Housing Data</h2>"
      ]
    },
    {
      "cell_type": "code",
      "metadata": {
        "deletable": true,
        "editable": true,
        "id": "WJ3cJxt3bSjp",
        "colab_type": "code",
        "colab": {}
      },
      "source": [
        "# The modules we're going to use\n",
        "from __future__ import print_function\n",
        "from sklearn import preprocessing\n",
        "from sklearn.model_selection import train_test_split\n",
        "from sklearn import datasets, linear_model\n",
        "from sklearn.linear_model import LinearRegression\n",
        "from scipy import linalg\n",
        "import numpy as np\n",
        "import matplotlib.pyplot as plt\n",
        "import matplotlib.lines as mlines\n",
        "\n",
        "# When you execute a code to plot with a simple SHIFT-ENTER, the plot will be shown directly under the code cell\n",
        "%matplotlib inline"
      ],
      "execution_count": 0,
      "outputs": []
    },
    {
      "cell_type": "code",
      "metadata": {
        "deletable": true,
        "editable": true,
        "id": "VXXIgKFJbSjr",
        "colab_type": "code",
        "colab": {}
      },
      "source": [
        "# Load data from scikit-learn, which returns (data, target)\n",
        "# note: if you call \"boston = load_boston()\", it returns a dictionary-like object\n",
        "data, target = datasets.load_boston(True)\n",
        "\n",
        "# Split the data into two parts: training data and testing data\n",
        "train_data,test_data,train_target,test_target = train_test_split(data,(target[:, np.newaxis]), test_size=0.2, random_state=42)"
      ],
      "execution_count": 0,
      "outputs": []
    },
    {
      "cell_type": "markdown",
      "metadata": {
        "deletable": true,
        "editable": true,
        "id": "NA3ezrA-bSjt",
        "colab_type": "text"
      },
      "source": [
        "<h4>Use scikit-learn library in the following cell</h4>"
      ]
    },
    {
      "cell_type": "code",
      "metadata": {
        "id": "toOVp3mzO_0P",
        "colab_type": "code",
        "colab": {}
      },
      "source": [
        "# Loss Function\n",
        "def meanSqErr(t_target, t_pred):\n",
        "  # initialize err with value of zero\n",
        "  err = 0\n",
        "  # for each item in target and prediction vectors, compute squared error, then add to err\n",
        "  for i in range(len(t_target)):\n",
        "    err += ((t_target[i] - t_pred[i]) ** 2)\n",
        "  # return mean squared error\n",
        "  return err / (len(t_target)*2)"
      ],
      "execution_count": 0,
      "outputs": []
    },
    {
      "cell_type": "code",
      "metadata": {
        "deletable": true,
        "editable": true,
        "id": "hlqomvfpbSjt",
        "colab_type": "code",
        "outputId": "97c27f33-667b-46c5-a2cb-c92c145ba682",
        "colab": {
          "base_uri": "https://localhost:8080/",
          "height": 369
        }
      },
      "source": [
        "print(\"SciKit Learn\\n\")\n",
        "\n",
        "# Task 1-1: use linear regression in sklearn\n",
        "linReg = LinearRegression()\n",
        "linReg.fit(train_data, train_target)\n",
        "\n",
        "# Task 1-2: show intercept and coefficents\n",
        "# print first item in weights vector (intercept)\n",
        "print(\"Intercept: \", linReg.intercept_)\n",
        "# print the rest of the items in the weights vector (coefficients)\n",
        "print(\"Coefficients: \\n\", np.transpose(linReg.coef_))\n",
        "print()\n",
        "\n",
        "# Task 1-3: show errors on training dataset and testing dataset\n",
        "# generate predictions for training and testing datasets, compute loss, then print loss\n",
        "train_pred = linReg.predict(train_data)\n",
        "print(\"Training Error: \", meanSqErr(train_target, train_pred))\n",
        "test_pred = linReg.predict(test_data)\n",
        "print(\"Testing Error: \", meanSqErr(test_target, test_pred))\n"
      ],
      "execution_count": 0,
      "outputs": [
        {
          "output_type": "stream",
          "text": [
            "SciKit Learn\n",
            "\n",
            "Intercept:  [22.79653465]\n",
            "Coefficients: \n",
            " [[-1.00213533]\n",
            " [ 0.69626862]\n",
            " [ 0.27806485]\n",
            " [ 0.7187384 ]\n",
            " [-2.0223194 ]\n",
            " [ 3.14523956]\n",
            " [-0.17604788]\n",
            " [-3.0819076 ]\n",
            " [ 2.25140666]\n",
            " [-1.76701378]\n",
            " [-2.03775151]\n",
            " [ 1.12956831]\n",
            " [-3.61165842]]\n",
            "\n",
            "Training Error:  [10.82070638]\n",
            "Testing Error:  [12.14555974]\n"
          ],
          "name": "stdout"
        }
      ]
    },
    {
      "cell_type": "markdown",
      "metadata": {
        "deletable": true,
        "editable": true,
        "id": "RpX2tOa5bSjv",
        "colab_type": "text"
      },
      "source": [
        "<h4>Use analytical solution (normal equation) to perform linear regression in the following cell</h4>"
      ]
    },
    {
      "cell_type": "code",
      "metadata": {
        "deletable": true,
        "editable": true,
        "id": "YZJJ0sUGbSjv",
        "colab_type": "code",
        "outputId": "3b693eb2-889a-4afd-ab23-9f187a66f5b7",
        "colab": {
          "base_uri": "https://localhost:8080/",
          "height": 369
        }
      },
      "source": [
        "print(\"Analytical Solution\\n\")\n",
        "\n",
        "# Task 2-1: Implement a function solving normal equation \n",
        "# Inputs: Training data and  training label\n",
        "# Output: Weights\n",
        "def myNormalEqualFun(t_data, t_label):\n",
        "  # single line equivalent of\n",
        "  # weights = np.linalg.matrix_power(np.matmul(np.transpose(t_data), t_data), -1)\n",
        "  # weights = np.matmul(weights, np.transpose(t_data))\n",
        "  # weights = np.matmul(weights, t_label)\n",
        "  # normal equation\n",
        "  weights = np.dot(np.dot(np.linalg.matrix_power(np.dot(np.transpose(t_data), t_data), -1), np.transpose(t_data)), t_label)\n",
        "  return weights \n",
        "    \n",
        "# Task 2-2: Implement a function performing prediction\n",
        "# Inputs: Testing data and weights\n",
        "# Output: Predictions\n",
        "def myPredictFun(t_data, w):\n",
        "  # generate prediction vector\n",
        "  predictions = np.matmul(t_data, w)\n",
        "  return predictions\n",
        "\n",
        "# Here we insert a column of 1s into training_data and test_data (to be consistent with our lecture slides)\n",
        "train_data_intercept = np.insert(train_data, 0, 1, axis=1)\n",
        "test_data_intercept = np.insert(test_data, 0, 1, axis=1)\n",
        "#print(\"test data shape: \", test_data_intercept.shape)\n",
        "\n",
        "# Here we call myNormalEqual to train the model and get weights\n",
        "w = myNormalEqualFun(train_data_intercept,train_target)\n",
        "\n",
        "# Task 2-3: show intercept and coefficents\n",
        "# print intercept\n",
        "print(\"Intercept: \", w[0])\n",
        "\n",
        "# print coefficients\n",
        "s = slice(1, w.size, 1)\n",
        "print(\"Coefficients: \\n\", w[s])\n",
        "print()\n",
        "\n",
        "# Task 2-4: show errors on training dataset and testing dataset\n",
        "# get predictions, then use that to print loss\n",
        "trainPred = myPredictFun(train_data_intercept, w)\n",
        "print(\"Training Error: \", meanSqErr(train_target, trainPred))\n",
        "\n",
        "testPred = myPredictFun(test_data_intercept, w)\n",
        "print(\"Testing Error: \", meanSqErr(test_target, testPred))\n"
      ],
      "execution_count": 0,
      "outputs": [
        {
          "output_type": "stream",
          "text": [
            "Analytical Solution\n",
            "\n",
            "Intercept:  [22.79653465]\n",
            "Coefficients: \n",
            " [[-1.00213533]\n",
            " [ 0.69626862]\n",
            " [ 0.27806485]\n",
            " [ 0.7187384 ]\n",
            " [-2.0223194 ]\n",
            " [ 3.14523956]\n",
            " [-0.17604788]\n",
            " [-3.0819076 ]\n",
            " [ 2.25140666]\n",
            " [-1.76701378]\n",
            " [-2.03775151]\n",
            " [ 1.12956831]\n",
            " [-3.61165842]]\n",
            "\n",
            "Training Error:  [10.82070638]\n",
            "Testing Error:  [12.14555974]\n"
          ],
          "name": "stdout"
        }
      ]
    },
    {
      "cell_type": "markdown",
      "metadata": {
        "deletable": true,
        "editable": true,
        "id": "1hhVEfixbSjx",
        "colab_type": "text"
      },
      "source": [
        "[link text](https://)<h4>Use numerical solution (basic gradient descent) to perform linear regression in the following cell</h4>"
      ]
    },
    {
      "cell_type": "code",
      "metadata": {
        "deletable": true,
        "editable": true,
        "id": "3H1IxOBubSjy",
        "colab_type": "code",
        "outputId": "65705328-f9b3-44b6-fbe3-57f5c84a146d",
        "colab": {
          "base_uri": "https://localhost:8080/",
          "height": 959
        }
      },
      "source": [
        "print(\"Gradient Descent\\n\")\n",
        "\n",
        "# Feature scaling\n",
        "scaler = preprocessing.StandardScaler().fit(train_data)\n",
        "train_data = scaler.transform(train_data)\n",
        "test_data = scaler.transform(test_data)\n",
        "\n",
        "\n",
        "# Task 3-1: Implement a function performing gradient descent\n",
        "# Inputs: Training data, training label, learning rate, number of iterations\n",
        "# Output: the final Weights\n",
        "#         the loss history along iterations\n",
        "def myGradientDescentFun(X, y, test_X, test_y, learning_rate,numItrs):\n",
        "    # N is equal to the size of the target vector\n",
        "    N = y.shape[0]\n",
        "    # initialize weights vector with random values\n",
        "    weights = np.random.randn(X.shape[1], 1)\n",
        "    # intitialize historical loss vectors with zeroes\n",
        "    loss = np.zeros(numItrs)\n",
        "    v_loss = np.zeros(numItrs)\n",
        "    \n",
        "    for i in range(numItrs):\n",
        "      # implement gradient descent function here\n",
        "      pred = myPredictFun(X, weights)\n",
        "      # gradient equation from class\n",
        "      grad = -(1/N) * X.T.dot(np.subtract(y,pred))\n",
        "      # calculate new weights\n",
        "      weights = weights - (learning_rate * grad)\n",
        "      # calculate loss for current iteration for training and testing datasets\n",
        "      loss[i] = meanSqErr(y, pred)\n",
        "      v_loss[i] = meanSqErr(test_y, myPredictFun(test_X, weights))\n",
        "    # return weights and historical loss vectors\n",
        "    return weights, loss, v_loss\n",
        "\n",
        "# Task 3-2: Implement a function performing prediction\n",
        "# Inputs: Testing data and weights\n",
        "# Output: Predictions (N*1 matrix)\n",
        "def myPredictFun(X,w):\n",
        "    # generate predictions using data matrix and weights vector\n",
        "    predictions = np.matmul(X, w)\n",
        "    return predictions\n",
        "\n",
        "# Here we insert a column of 1s into training_data and test_data (to be consistent with our lecture slides)\n",
        "train_data_intercept = np.insert(train_data, 0, 1, axis=1)\n",
        "test_data_intercept = np.insert(test_data, 0, 1, axis=1)\n",
        "\n",
        "# Here we call myGradientDescentFun to train the model and get weights\n",
        "# Note: you need to figure out good learning rate value and the number of iterations\n",
        "w, train_loss, test_loss = myGradientDescentFun(train_data_intercept,train_target, test_data_intercept, test_target, 0.3,450)\n",
        "\n",
        "\n",
        "# Task 3-3: show intercept and coefficents\n",
        "s = slice(1, w.size, 1)\n",
        "print(\"Intercept: \", w[0])\n",
        "print(\"Coefficients: \\n\", w[s])\n",
        "\n",
        "# Task 3-4: show errors on training dataset and testing dataset\n",
        "train_pred = myPredictFun(train_data_intercept, w)\n",
        "print(\"Training Error: \", meanSqErr(train_target, train_pred))\n",
        "\n",
        "test_pred = myPredictFun(test_data_intercept, w)\n",
        "print(\"Testing Error: \", meanSqErr(test_target, test_pred))\n",
        "\n",
        "\n",
        "# Task 3-5: plot learning curves showing training errors and testing errors along iterations\n",
        "# x axis size = number of iterations\n",
        "x_axis = np.arange(1,train_loss.size+1)\n",
        "# change size of plot\n",
        "plt.figure(num=None, figsize=(12, 9), dpi=80, facecolor='w', edgecolor='k')\n",
        "# plot training error as a red line\n",
        "plt.plot(x_axis, train_loss, 'r-', label=\"Training Error\")\n",
        "# plot testing error as a black line\n",
        "plt.plot(x_axis, test_loss, 'k-', label = \"Testing Error\")\n",
        "# generate plot legend\n",
        "plt.legend(bbox_to_anchor=(0.8, 0.95), loc='upper left', borderaxespad=0.)\n",
        "# add labels\n",
        "plt.xlabel(\"Number of Iterations\")\n",
        "plt.ylabel(\"Loss\")\n",
        "plt.title(\"Gradient Descent\")\n",
        "plt.show()"
      ],
      "execution_count": 0,
      "outputs": [
        {
          "output_type": "stream",
          "text": [
            "Gradient Descent\n",
            "\n",
            "Intercept:  [22.79653465]\n",
            "Coefficients: \n",
            " [[-1.00211476]\n",
            " [ 0.69622011]\n",
            " [ 0.27797203]\n",
            " [ 0.71875289]\n",
            " [-2.02230924]\n",
            " [ 3.14526203]\n",
            " [-0.17605624]\n",
            " [-3.08189577]\n",
            " [ 2.25112728]\n",
            " [-1.76670193]\n",
            " [-2.03774319]\n",
            " [ 1.12956663]\n",
            " [-3.61164476]]\n",
            "Training Error:  [10.82070638]\n",
            "Testing Error:  [12.14563952]\n"
          ],
          "name": "stdout"
        },
        {
          "output_type": "display_data",
          "data": {
            "image/png": "[encoded data removed]",
            "text/plain": [
              "<Figure size 960x720 with 1 Axes>"
            ]
          },
          "metadata": {
            "tags": []
          }
        }
      ]
    },
    {
      "cell_type": "markdown",
      "metadata": {
        "id": "Rx1UOqmfcNe0",
        "colab_type": "text"
      },
      "source": [
        "<h4>Use numerical solution (stochastic gradient descent) to perform linear regression in the following cell</h4>"
      ]
    },
    {
      "cell_type": "code",
      "metadata": {
        "id": "96_WVyVKcNss",
        "colab_type": "code",
        "outputId": "255d50db-5576-479c-bb22-34cb3f0af53c",
        "colab": {
          "base_uri": "https://localhost:8080/",
          "height": 924
        }
      },
      "source": [
        "# Feature scaling\n",
        "scaler = preprocessing.StandardScaler().fit(train_data)\n",
        "train_data = scaler.transform(train_data)\n",
        "test_data = scaler.transform(test_data)\n",
        "\n",
        "# Task 4-1: Implement a function performing gradient descent\n",
        "# Inputs: Training data, training label, learning rate, number of epoches, batch size\n",
        "# Output: the final Weights\n",
        "#         the loss history along batches\n",
        "def myGradientDescentFun(X, y, test_X, test_y, learning_rate, epoches, batchsize):\n",
        "  # N = size of target vector\n",
        "  N = y.shape[0]\n",
        "  # initialize historical loss vectors with zeroes\n",
        "  loss = np.zeros(epoches)\n",
        "  v_loss = np.zeros(epoches)\n",
        "  # number of batches = N divided by number of batches\n",
        "  numBatches = int(N/batchsize)\n",
        "  # initialize weights vector with random values\n",
        "  weights = np.random.randn(X.shape[1], 1)\n",
        "  \n",
        "  # for each epoch, set current loss to zero, then randomize the order of X and y\n",
        "  for i in range(epoches):\n",
        "    currLoss = 0.0\n",
        "    v_currLoss = 0.0\n",
        "    # shuffle dataset matrix and target vector such that they are in the same relative order\n",
        "    shufOrder = np.random.permutation(N)\n",
        "    X = X[shufOrder]\n",
        "    y = y[shufOrder]\n",
        "    \n",
        "    # for each iteration, get a random batch\n",
        "    for j in range(0, N, batchsize):\n",
        "      X_i = X[i:i+batchsize]\n",
        "      y_i = y[i:i+batchsize]\n",
        "      \n",
        "      pred = myPredictFun(X_i, weights)\n",
        "      # update training loss\n",
        "      currLoss += meanSqErr(y_i, pred)\n",
        "      # update current testing loss\n",
        "      v_currLoss += meanSqErr(test_y, myPredictFun(test_X, weights))\n",
        "      # get gradient\n",
        "      grad = -(1/N) * X_i.T.dot(np.subtract(y_i, pred))\n",
        "      # update weights\n",
        "      weights = weights - (learning_rate * grad)\n",
        "    loss[i] = currLoss\n",
        "    v_loss[i] = v_currLoss\n",
        "  return weights, loss, v_loss\n",
        "\n",
        "# Task 4-2: Implement a function performing prediction\n",
        "# Inputs: Testing data and weights\n",
        "# Output: Predictions\n",
        "def myPredictFun(X,w):\n",
        "    predictions = np.matmul(X, w)\n",
        "    return predictions\n",
        "\n",
        "# Here we insert a column of 1s into training_data and test_data (to be consistent with our lecture slides)\n",
        "train_data_intercept = np.insert(train_data, 0, 1, axis=1)\n",
        "test_data_intercept = np.insert(test_data, 0, 1, axis=1)\n",
        "\n",
        "# Here we call myGradientDescentFun to train the model and get weights\n",
        "# Note: you need to figure out good learning rate value and the number of iterations\n",
        "bS = 500\n",
        "w, train_loss, test_loss = myGradientDescentFun(train_data_intercept,train_target, test_data_intercept, test_target, 0.3, 100, bS)\n",
        "\n",
        "# Task 4-3: show intercept and coefficents\n",
        "s = slice(1, w.size, 1)\n",
        "print(\"Intercept: \", w[0])\n",
        "print(\"Coefficients: \\n\", w[s])\n",
        "\n",
        "# Task 4-4: show errors on training dataset and testing dataset\n",
        "train_pred = myPredictFun(train_data_intercept, w)\n",
        "print(\"Training Error: \", meanSqErr(train_target, train_pred))\n",
        "\n",
        "test_pred = myPredictFun(test_data_intercept, w)\n",
        "print(\"Testing Error: \", meanSqErr(test_target, test_pred))\n",
        "\n",
        "# Task 4-5: plot learning curves showing training errors and testing errors along bath\n",
        "# x axis size = number of iterations\n",
        "x_axis = np.arange(1,train_loss.size+1)\n",
        "# change size of plot\n",
        "plt.figure(num=None, figsize=(12, 9), dpi=80, facecolor='w', edgecolor='k')\n",
        "# plot training error as a red line\n",
        "plt.plot(x_axis, train_loss, 'r-', label=\"Training Error\")\n",
        "# plot testing error as a black line\n",
        "plt.plot(x_axis, test_loss, 'k-', label = \"Testing Error\")\n",
        "# generate plot legend\n",
        "plt.legend(bbox_to_anchor=(0.8, 0.95), loc='upper left', borderaxespad=0.)\n",
        "# add labels\n",
        "plt.xlabel(\"Batches\")\n",
        "plt.ylabel(\"Loss\")\n",
        "title = \"Stochastic Gradient Descent, Batch Size = \" + str(bS)\n",
        "plt.title(title)\n",
        "plt.show()"
      ],
      "execution_count": 0,
      "outputs": [
        {
          "output_type": "stream",
          "text": [
            "Intercept:  [22.7836186]\n",
            "Coefficients: \n",
            " [[-0.90811748]\n",
            " [ 0.63463833]\n",
            " [ 0.19925353]\n",
            " [ 0.8450501 ]\n",
            " [-2.02271738]\n",
            " [ 3.10794235]\n",
            " [-0.12331203]\n",
            " [-3.15089672]\n",
            " [ 2.05527065]\n",
            " [-1.2693427 ]\n",
            " [-1.94040915]\n",
            " [ 1.18174785]\n",
            " [-3.74383978]]\n",
            "Training Error:  [10.90830671]\n",
            "Testing Error:  [12.25166238]\n"
          ],
          "name": "stdout"
        },
        {
          "output_type": "display_data",
          "data": {
            "image/png": "[encoded data removed]",
            "text/plain": [
              "<Figure size 960x720 with 1 Axes>"
            ]
          },
          "metadata": {
            "tags": []
          }
        }
      ]
    }
  ]
}